{
 "cells": [
  {
   "cell_type": "code",
   "execution_count": null,
   "metadata": {},
   "outputs": [],
   "source": [
    "#let's do the model building in here\n",
    "# The modules needed for building the model can be:\n",
    "import os\n",
    "import numpy as np\n",
    "import matplotlib.pyplot as plt\n",
    "%matplotlib inline\n",
    "#add more if needed\n"
   ]
  },
  {
   "cell_type": "code",
   "execution_count": null,
   "metadata": {},
   "outputs": [],
   "source": [
    "PARENT_PATH = \".\"\n",
    "DATASET_PATH = \".\\\\16NepaliNews\\\\raw\"\n",
    "\n",
    "list_of_folders = os.listdir(DATASET_PATH)\n",
    "no_of_files_in_folders = []\n",
    "for folder in list_of_folders:\n",
    "    no_of_files_in_folders.append(len(os.listdir(DATASET_PATH + \"\\\\\" + folder)))\n",
    "    \n",
    "    \n",
    "plt.figure(figsize=(22, 5))\n",
    "plt.bar(list_of_folders, no_of_files_in_folders)\n",
    "plt.xlabel(\"News Group\")\n",
    "plt.ylabel(\"Total News Texts\")\n",
    "plt.title(\"News Texts in different groups\")\n",
    "plt.show()"
   ]
  },
  {
   "cell_type": "code",
   "execution_count": null,
   "metadata": {},
   "outputs": [],
   "source": [
    "for x, y in zip(list_of_folders, no_of_files_in_folders) :\n",
    "    print(x , \":\" , y)"
   ]
  },
  {
   "cell_type": "code",
   "execution_count": null,
   "metadata": {},
   "outputs": [],
   "source": [
    "#function to save the file\n",
    "def save_file( text, folder_name, filename_with_extension, parent_path = \".\"):\n",
    "    print(\"SAVING FILE...\" + folder_name + \"\\\\\" +filename_with_extension)\n",
    "    if not os.path.isdir(parent_path + \"\\\\tokenized\"): #check if the given path's folder exists or not\n",
    "        os.makedirs(parent_path + \"\\\\tokenized\")\n",
    "    if not os.path.isdir(parent_path + \"\\\\tokenized\\\\\" + folder_name): \n",
    "        os.makedirs(parent_path + \"\\\\tokenized\\\\\" + folder_name )\n",
    "        \n",
    "    with open(parent_path + \"\\\\tokenized\\\\\" + folder_name +\"\\\\\" + filename_with_extension, 'w', encoding='utf-8') as wp:\n",
    "        wp.write(str(text))\n",
    "\n",
    "       \n",
    "\n"
   ]
  },
  {
   "cell_type": "code",
   "execution_count": null,
   "metadata": {},
   "outputs": [],
   "source": [
    "class Preprocessing:\n",
    "    def __init__(self):\n",
    "       self.path = DATASET_PATH\n",
    "       self.list_of_folders = os.listdir(self.path)\n",
    "        \n",
    "    def Tokenization(self):\n",
    "        not_opened = 0\n",
    "        for folder in self.list_of_folders:\n",
    "            for file in os.listdir(self.path + \"\\\\\" + folder):\n",
    "                with open(os.path.join(self.path, folder, file), encoding='utf-8') as fp:\n",
    "                    print(folder + \"\\\\\" + file + \" opened\")\n",
    "                    try:\n",
    "                        unprocessed_text = fp.read() \n",
    "                        tokenized_text = unprocessed_text.split(\" \")\n",
    "                        save_file(tokenized_text, folder, file)               \n",
    "                    except:\n",
    "                       not_opened += 1\n",
    "                       \n",
    "        print(not_opened)\n",
    "            "
   ]
  },
  {
   "cell_type": "code",
   "execution_count": null,
   "metadata": {},
   "outputs": [],
   "source": [
    "preprocessing_data = Preprocessing()\n",
    "\n",
    "preprocessing_data.Tokenization()"
   ]
  },
  {
   "cell_type": "code",
   "execution_count": null,
   "metadata": {},
   "outputs": [],
   "source": [
    "\n",
    "with open(\"rough.txt\", encoding=\"utf-8\") as fp:\n",
    "        t = fp.read()\n",
    "        print( t[334])\n"
   ]
  },
  {
   "cell_type": "code",
   "execution_count": null,
   "metadata": {},
   "outputs": [],
   "source": [
    "list_of_folders1 = os.listdir(\".\\\\tokenized\")\n",
    "no_of_files_in_folders1 = []\n",
    "for folder in list_of_folders:\n",
    "    no_of_files_in_folders1.append(len(os.listdir(\".\\\\tokenized\" + \"\\\\\" + folder)))\n",
    "    \n",
    "    \n",
    "plt.figure(figsize=(22, 5))\n",
    "plt.bar(list_of_folders1, no_of_files_in_folders1)\n",
    "plt.xlabel(\"News Group\")\n",
    "plt.ylabel(\"Total News Texts\")\n",
    "plt.title(\"News Texts in different groups\")\n",
    "plt.show()"
   ]
  },
  {
   "cell_type": "code",
   "execution_count": null,
   "metadata": {},
   "outputs": [],
   "source": [
    "count = 0\n",
    "for x, y in zip(list_of_folders, no_of_files_in_folders) :\n",
    "    print(x , \":\" , y, no_of_files_in_folders1[count], \"percent: \", abs(y - no_of_files_in_folders1[count])*100 / y)\n",
    "    \n",
    "    count +=1"
   ]
  },
  {
   "cell_type": "code",
   "execution_count": null,
   "metadata": {},
   "outputs": [],
   "source": [
    "\n"
   ]
  },
  {
   "cell_type": "code",
   "execution_count": 1,
   "metadata": {},
   "outputs": [
    {
     "name": "stdout",
     "output_type": "stream",
     "text": [
      ".\\16NepaliNews\\raw\\Health\\08_11_21_15_50_08571867.txt\n",
      "\n",
      "\n",
      "\n",
      "\n",
      " \n",
      "१५ साउन: भारतमा थप ४४ हजारभन्दा बढी व्यक्ति कोरोनाभाइरसबाट सङ्क्रमित भएका छन् । \n",
      "सरकारी अधिकारीहरुले दिएको जानकारीअनुसार पछिल्लो २४ घण्टामा देशभरी ४४ हजार २३० जना नयाँ सङ्क्रमित भएका हुन् । केन्द्रीय स्वास्थ्य तथा परिवार कल्याण मन्त्रालयले भारतमा अहिले चार लाख पाँच हजार १५५ जना सङ्क्रमित अवस्थामै रहेका जनाएको छ । सङ्क्रमित अवस्थामै रहेकाहरुको यो सङ्ख्या कूल सङ्क्रमितहरुको सङ्ख्याको १.२८ प्रतिशत मात्रै भएको पनि मन्त्रालयका अधिकारीहरुले जानकारी दिएका छन् ।\n",
      "भारतमा अहिले सङ्क्रमणमुक्त भइसकेकाको सङ्ख्या भने तीन करोड १५ लाख ७२ हजार ३४४ रहेको छ । ती मध्ये ४२ हजार ३६० जना पछिल्लो २४ घण्टामा सङ्क्रमणमुक्त भएका हुन् ।\n",
      "एकैदिनमा नयाँ सङ्क्रमितको सङ्ख्याभन्दा सङ्क्रमणमुक्त भएकाहरुको सङ्ख्या थोरै भएकाले अहिले सक्रिय सङ्क्रमितहरुको सङ्ख्या अघिल्लो दिनभन्दा बढी भएको छ ।\n",
      "भारतमा कोरोनाभाइरसका कारण अहिलेसम्म चार लाख २३ हजार २१७ जनाको मृत्यु भएको छ । ती मध्ये ५५५ जनाको पछिल्लो २४ घण्टामा मृत्यु भएको हो । सरकारी अधिकारीहरुले दिएको जानकारीअनुसार भारतमा अहिलेसम्म ४६ करोड ४६ लाख मानिसको कोरोना परीक्षण गरिएको छ भने ४५ करोड ६० लाखलाई कोरोनाभाइरस विरुद्धको खोप लगाइएको छ ।-एएनआई/: \n",
      "\n"
     ]
    }
   ],
   "source": [
    "from src.data_preprocessing.preprocessing import Preprocessing\n",
    "\n",
    "process = Preprocessing(output=True)\n",
    "process.delNumbers(filename=\".\\\\16NepaliNews\\\\raw\\\\Health\\\\08_11_21_15_50_08571867.txt\")\n"
   ]
  },
  {
   "cell_type": "code",
   "execution_count": null,
   "metadata": {},
   "outputs": [],
   "source": []
  },
  {
   "cell_type": "code",
   "execution_count": null,
   "metadata": {},
   "outputs": [],
   "source": []
  }
 ],
 "metadata": {
  "interpreter": {
   "hash": "e19f2ee28a2596421b32a582284268244e387339577b4a62b40e9936a7c1aa89"
  },
  "kernelspec": {
   "display_name": "Python 3.7.0 64-bit",
   "name": "python3"
  },
  "language_info": {
   "codemirror_mode": {
    "name": "ipython",
    "version": 3
   },
   "file_extension": ".py",
   "mimetype": "text/x-python",
   "name": "python",
   "nbconvert_exporter": "python",
   "pygments_lexer": "ipython3",
   "version": "3.7.0"
  },
  "orig_nbformat": 4
 },
 "nbformat": 4,
 "nbformat_minor": 2
}
