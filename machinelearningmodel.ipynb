{
 "cells": [
  {
   "cell_type": "code",
   "execution_count": 9,
   "metadata": {},
   "outputs": [],
   "source": [
    "from src.data_preprocessing import preprocessing\n",
    "import os \n",
    "\n",
    "# don't forget to change the '/' in the filename to '\\\\' in windows"
   ]
  },
  {
   "cell_type": "code",
   "execution_count": 2,
   "metadata": {},
   "outputs": [],
   "source": [
    "\n",
    "dirs = os.listdir(\"./16NepaliNews/raw\")\n"
   ]
  },
  {
   "cell_type": "markdown",
   "metadata": {},
   "source": [
    "## no need to run the cell below"
   ]
  },
  {
   "cell_type": "code",
   "execution_count": 11,
   "metadata": {},
   "outputs": [],
   "source": [
    "def make_directories(folder): # no need to run this now\n",
    "    for dir in dirs:\n",
    "        os.makedirs(os.path.join(folder,dir))\n"
   ]
  },
  {
   "cell_type": "code",
   "execution_count": 12,
   "metadata": {},
   "outputs": [],
   "source": [
    "def write_file(dir, filename, text):\n",
    "    folder_name = \"Preprocessed\"\n",
    "    path = \".\\\\\" + os.path.join(folder_name, dir, filename )\n",
    "    \n",
    "    with open(path, \"w\", encoding=\"utf-8\") as fp:\n",
    "        fp.write(text)\n",
    "    \n"
   ]
  },
  {
   "cell_type": "code",
   "execution_count": 19,
   "metadata": {},
   "outputs": [],
   "source": [
    "from nepali_stemmer.stemmer import NepStemmer\n",
    "\n",
    "\n",
    "def preProcess(folder_start, folder_end):\n",
    "    punc = preprocessing.Preprocessing()\n",
    "    #running the simple preprocessing for all files\n",
    "    for folder in dirs[folder_start: folder_end]: \n",
    "        dir = os.getcwd() + \"/16NepaliNews/raw/\" + folder\n",
    "        print(folder)\n",
    "        for file in os.listdir(dir): #remove the list value [:1]\n",
    "            filename = dir + \"/\" + file\n",
    "            \n",
    "            \n",
    "            \n",
    "            text = punc.delPnctuatn(filename=filename, next=True)\n",
    "            \n",
    "            \n",
    "            text = punc.delEngWords(text=text, next=True)\n",
    "            \n",
    "            \n",
    "            text = punc.delNumbers(text=text, next=True)\n",
    "            \n",
    "            text = punc.delStopwords(text=text, next=True)\n",
    "            \n",
    "            stem = NepStemmer()\n",
    "            text = stem.stem(text)\n",
    "            write_file(folder, file, text)\n",
    "        \n",
    "        \n",
    "        \n",
    "\n"
   ]
  },
  {
   "cell_type": "code",
   "execution_count": 4,
   "metadata": {},
   "outputs": [],
   "source": [
    "from src.feature_extraction import tfidfvectorizer\n",
    "\n",
    "counter = tfidfvectorizer.TfidfVectorizer()\n",
    "# counter.vocabulary(path=\".\\\\Preprocessed\\\\Technology\\\\04_11_21_10_39_40.txt\")\n",
    "# counter.vocab"
   ]
  },
  {
   "cell_type": "code",
   "execution_count": 5,
   "metadata": {},
   "outputs": [
    {
     "name": "stdout",
     "output_type": "stream",
     "text": [
      "Business\n",
      "1408\n",
      "Education\n",
      "1296\n",
      "Entertainment\n",
      "1309\n",
      "Health\n",
      "1301\n",
      "Interview\n",
      "1383\n",
      "Literature\n",
      "1237\n",
      "NationalNews\n",
      "1440\n",
      "Opinion\n",
      "1321\n",
      "Sports\n",
      "1295\n",
      "Technology\n",
      "1372\n",
      "Tourism\n",
      "1380\n",
      "World\n",
      "1366\n"
     ]
    }
   ],
   "source": [
    "def count_words():\n",
    "    for folder in dirs:\n",
    "        dir = os.getcwd() + \"\\\\FilteredPreprocessed\\\\\" + folder\n",
    "        print(folder)\n",
    "        count = 0\n",
    "        \n",
    "        for file in os.listdir(dir):\n",
    "            filename = dir +\"\\\\\" + file\n",
    "            counter.vocabulary(path=filename)\n",
    "            count+=1\n",
    "        print(count)\n",
    "count_words()"
   ]
  },
  {
   "cell_type": "code",
   "execution_count": 6,
   "metadata": {},
   "outputs": [
    {
     "data": {
      "text/plain": [
       "169205"
      ]
     },
     "execution_count": 6,
     "metadata": {},
     "output_type": "execute_result"
    }
   ],
   "source": [
    "# for i in range(1000):\n",
    "#     print(counter.vocab[list(counter.vocab.keys())[i]], list(counter.vocab.keys())[i])\n",
    "    \n",
    "len(counter.vocab)"
   ]
  },
  {
   "cell_type": "code",
   "execution_count": 7,
   "metadata": {},
   "outputs": [],
   "source": [
    "with open(\".\\\\vocab.txt\",\"w\", encoding=\"utf-8\") as fp:\n",
    "    for key in counter.vocab.keys():\n",
    "        fp.write(key + \" \" + str(counter.vocab[key])+\"\\n\")"
   ]
  },
  {
   "cell_type": "code",
   "execution_count": 1,
   "metadata": {},
   "outputs": [
    {
     "name": "stdout",
     "output_type": "stream",
     "text": [
      "1 left of 1366 of World                                          \r"
     ]
    }
   ],
   "source": [
    "from src.feature_extraction import tfidfvectorizer\n",
    "vectorizer = tfidfvectorizer.TfidfVectorizer()\n",
    "vectorizer.documentTermMat('.\\\\FilteredPreprocessed\\\\')"
   ]
  },
  {
   "cell_type": "code",
   "execution_count": 2,
   "metadata": {},
   "outputs": [
    {
     "data": {
      "text/plain": [
       "[1811, 0]"
      ]
     },
     "execution_count": 2,
     "metadata": {},
     "output_type": "execute_result"
    }
   ],
   "source": [
    "vectorizer.vocab['कक्षा']"
   ]
  },
  {
   "cell_type": "code",
   "execution_count": 3,
   "metadata": {},
   "outputs": [
    {
     "data": {
      "text/plain": [
       "1811.0"
      ]
     },
     "execution_count": 3,
     "metadata": {},
     "output_type": "execute_result"
    }
   ],
   "source": [
    "vectorizer.vec[:,:1].sum()"
   ]
  },
  {
   "cell_type": "code",
   "execution_count": 4,
   "metadata": {},
   "outputs": [],
   "source": [
    "vectorizer.tf_idf()"
   ]
  },
  {
   "cell_type": "code",
   "execution_count": 6,
   "metadata": {},
   "outputs": [
    {
     "data": {
      "text/plain": [
       "array([[0.02414565, 0.02684119, 0.02241369, 0.01793564, 0.07383601,\n",
       "        0.02528839, 0.03955119, 0.0504575 , 0.12240794, 0.10748779,\n",
       "        0.02409163, 0.060009  , 0.02436558, 0.0222847 , 0.00654513,\n",
       "        0.12869422, 0.04431612, 0.01682243, 0.01628115, 0.03371731]],\n",
       "      dtype=float32)"
      ]
     },
     "execution_count": 6,
     "metadata": {},
     "output_type": "execute_result"
    }
   ],
   "source": [
    "vectorizer.vec[:1,:20]"
   ]
  },
  {
   "cell_type": "code",
   "execution_count": 8,
   "metadata": {},
   "outputs": [],
   "source": [
    "import pickle\n",
    "tfidf = open(\".\\\\tfidf.pkl\", \"wb\")\n",
    "pickle.dump(vectorizer.vec, tfidf)\n",
    "tfidf.close()"
   ]
  },
  {
   "cell_type": "code",
   "execution_count": 9,
   "metadata": {},
   "outputs": [],
   "source": [
    "import pickle\n",
    "vocab=open(\".\\\\vocab.pkl\", \"wb\")\n",
    "pickle.dump(vectorizer.vocab, vocab)\n",
    "vocab.close()"
   ]
  },
  {
   "cell_type": "code",
   "execution_count": 1,
   "metadata": {},
   "outputs": [
    {
     "data": {
      "text/plain": [
       "(16108, 169205)"
      ]
     },
     "execution_count": 1,
     "metadata": {},
     "output_type": "execute_result"
    }
   ],
   "source": [
    "import pickle\n",
    "fil=open(\".\\\\tfidf.pkl\", \"rb\")\n",
    "t=pickle.load(fil)\n",
    "fil.close()\n",
    "t.shape\n"
   ]
  },
  {
   "cell_type": "code",
   "execution_count": 2,
   "metadata": {},
   "outputs": [],
   "source": [
    "from scipy  import sparse\n",
    "s=sparse.csr_matrix(t)"
   ]
  },
  {
   "cell_type": "code",
   "execution_count": 3,
   "metadata": {},
   "outputs": [
    {
     "data": {
      "text/plain": [
       "(16108, 169205)"
      ]
     },
     "execution_count": 3,
     "metadata": {},
     "output_type": "execute_result"
    }
   ],
   "source": [
    "s.shape"
   ]
  },
  {
   "cell_type": "code",
   "execution_count": 4,
   "metadata": {},
   "outputs": [
    {
     "data": {
      "text/plain": [
       "<1x20 sparse matrix of type '<class 'numpy.float32'>'\n",
       "\twith 20 stored elements in Compressed Sparse Row format>"
      ]
     },
     "execution_count": 4,
     "metadata": {},
     "output_type": "execute_result"
    }
   ],
   "source": [
    "s[:1,:20]"
   ]
  },
  {
   "cell_type": "code",
   "execution_count": 5,
   "metadata": {},
   "outputs": [],
   "source": [
    "csr = open(\".\\\\csr.pkl\", \"wb\")\n",
    "pickle.dump(s, csr)\n",
    "csr.close()"
   ]
  },
  {
   "cell_type": "code",
   "execution_count": 1,
   "metadata": {},
   "outputs": [],
   "source": [
    "from src.feature_extraction import tfidfvectorizer\n",
    "import pickle\n"
   ]
  },
  {
   "cell_type": "code",
   "execution_count": 10,
   "metadata": {},
   "outputs": [
    {
     "name": "stdout",
     "output_type": "stream",
     "text": [
      "1 left of 345 of Set3                                    \r"
     ]
    }
   ],
   "source": [
    "vectorizer.documentTermMat(Path=\"./DocSets/Set3/\")\n"
   ]
  },
  {
   "cell_type": "code",
   "execution_count": null,
   "metadata": {},
   "outputs": [],
   "source": [
    "def DTermSet(path, pickle_filename):\n",
    "    counter = tfidfvectorizer.TfidfVectorizer()\n",
    "    \n",
    "    counter.documentTermMat(path)\n",
    "    dterm = counter.vec\n",
    "    doc_label = counter.label\n",
    "    vocab = counter.vocab\n",
    "    all_info = {\n",
    "        \"docTerm\" : dterm,\n",
    "        \"doc_label\" : doc_label,\n",
    "        \"vocab\" : vocab\n",
    "    }\n",
    "    filename = open(pickle_filename, \"wb\")\n",
    "    pickle.dump(all_info, pickle_filename)\n",
    "    filename.close()"
   ]
  }
 ],
 "metadata": {
  "interpreter": {
   "hash": "e19f2ee28a2596421b32a582284268244e387339577b4a62b40e9936a7c1aa89"
  },
  "kernelspec": {
   "display_name": "Python 3.7.0 64-bit",
   "name": "python3"
  },
  "language_info": {
   "codemirror_mode": {
    "name": "ipython",
    "version": 3
   },
   "file_extension": ".py",
   "mimetype": "text/x-python",
   "name": "python",
   "nbconvert_exporter": "python",
   "pygments_lexer": "ipython3",
   "version": "3.8.5"
  },
  "orig_nbformat": 4
 },
 "nbformat": 4,
 "nbformat_minor": 2
}
