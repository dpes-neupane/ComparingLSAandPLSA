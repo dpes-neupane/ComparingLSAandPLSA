{
 "cells": [
  {
   "cell_type": "code",
   "execution_count": 24,
   "metadata": {},
   "outputs": [
    {
     "name": "stdout",
     "output_type": "stream",
     "text": [
      "11 done.\r"
     ]
    }
   ],
   "source": [
    "import matplotlib.pyplot as plt\n",
    "import numpy as np\n",
    "import os\n",
    "root = '.\\\\Preprocessed'\n",
    "paths = [os.path.join(root,i) for i in os.listdir(root)]\n",
    "dirs = [i for i in os.listdir(root)]\n",
    "len_dict = dict.fromkeys(dirs)\n",
    "idx = 0\n",
    "for folder in paths:\n",
    "    arr = np.empty([])\n",
    "\n",
    "    for file in os.listdir(folder):\n",
    "        \n",
    "        with open(os.path.join(folder,file), encoding='utf-8' ) as fp:\n",
    "            length = len(fp.read().split())\n",
    "        arr = np.append(arr,length)\n",
    "\n",
    "    len_dict[dirs[idx]] = arr\n",
    "    print(str(idx)+' done.',end='\\r')\n",
    "    idx+=1\n",
    "    "
   ]
  },
  {
   "cell_type": "code",
   "execution_count": 47,
   "metadata": {},
   "outputs": [
    {
     "data": {
      "text/plain": [
       "{'Business': [7.0, 80.0, 138.5, 252.0, 2090.0],\n",
       " 'Education': [0.0, 102.0, 149.0, 226.0, 2651.0],\n",
       " 'Entertainment': [0.0, 90.0, 132.0, 247.0, 10740.0],\n",
       " 'Health': [12.0, 86.0, 139.0, 241.0, 2593.0],\n",
       " 'Interview': [44.0, 576.0, 876.0, 1339.0, 7750.0],\n",
       " 'Literature': [23.0, 126.0, 226.0, 738.0, 5761.0],\n",
       " 'NationalNews': [22.0, 86.0, 135.0, 235.0, 1061.0],\n",
       " 'Opinion': [124.0, 698.0, 893.0, 1143.0, 6955.0],\n",
       " 'Sports': [20.0, 80.0, 111.0, 167.0, 2426.0],\n",
       " 'Technology': [38.0, 139.0, 190.0, 282.0, 2675.0],\n",
       " 'Tourism': [20.0, 126.0, 197.0, 326.0, 3797.0],\n",
       " 'World': [25.0, 93.0, 126.0, 171.0, 1440.0]}"
      ]
     },
     "execution_count": 47,
     "metadata": {},
     "output_type": "execute_result"
    }
   ],
   "source": [
    "# Output_dict is a dictionary that as key:value pair where Key is Folder name (Business, Education,... ) and value is a list containing five number summary.\n",
    "# e.g. \n",
    "# 'folder_name':[Minimum, Quartile 1, Median, Quartile 3, Maximum]\n",
    "# 'Business': [7.0, 80.0, 138.5, 252.0, 2090.0]\n",
    "\n",
    "from numpy import percentile\n",
    "output_dict = dict.fromkeys(dirs)\n",
    "idx = 0\n",
    "for i in len_dict.values():\n",
    "    arr = []\n",
    "    five_number_summary = percentile(i,[0,25,50,75,100])\n",
    "    arr.append(five_number_summary[0])\n",
    "    arr.append(five_number_summary[1])\n",
    "    arr.append(five_number_summary[2])\n",
    "    arr.append(five_number_summary[3])\n",
    "    arr.append(five_number_summary[4])\n",
    "    output_dict[dirs[idx]]=arr\n",
    "    idx+=1\n",
    "output_dict    \n"
   ]
  },
  {
   "cell_type": "code",
   "execution_count": null,
   "metadata": {},
   "outputs": [],
   "source": []
  }
 ],
 "metadata": {
  "interpreter": {
   "hash": "33dc6d49505b4536b6a128d9d7c879e1fa44477ad44947bbbe73093067fe6393"
  },
  "kernelspec": {
   "display_name": "Python 3.9.6 64-bit",
   "language": "python",
   "name": "python3"
  },
  "language_info": {
   "codemirror_mode": {
    "name": "ipython",
    "version": 3
   },
   "file_extension": ".py",
   "mimetype": "text/x-python",
   "name": "python",
   "nbconvert_exporter": "python",
   "pygments_lexer": "ipython3",
   "version": "3.9.6"
  },
  "orig_nbformat": 4
 },
 "nbformat": 4,
 "nbformat_minor": 2
}
