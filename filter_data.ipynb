{
 "cells": [
  {
   "cell_type": "code",
   "execution_count": 1,
   "metadata": {},
   "outputs": [
    {
     "name": "stdout",
     "output_type": "stream",
     "text": [
      "11 done.\r"
     ]
    }
   ],
   "source": [
    "import numpy as np\n",
    "import os\n",
    "root = '.\\\\Preprocessed'\n",
    "paths = [os.path.join(root,i) for i in os.listdir(root)]\n",
    "dirs = [i for i in os.listdir(root)]\n",
    "len_dict = dict.fromkeys(dirs)\n",
    "idx = 0\n",
    "for folder in paths:\n",
    "    arr = []\n",
    "\n",
    "    for file in os.listdir(folder):\n",
    "        \n",
    "        with open(os.path.join(folder,file), encoding='utf-8' ) as fp:\n",
    "            length = len(fp.read().split())\n",
    "        arr.append(length)\n",
    "\n",
    "    len_dict[dirs[idx]] = arr\n",
    "    print(str(idx)+' done.',end='\\r')\n",
    "    idx+=1\n"
   ]
  },
  {
   "cell_type": "code",
   "execution_count": 2,
   "metadata": {},
   "outputs": [],
   "source": [
    "# Output_dict is a dictionary that as key:value pair where Key is Folder name (Business, Education,... ) and value is a list containing five number summary.\n",
    "# e.g. \n",
    "# 'folder_name':[Minimum, Quartile 1, Median, Quartile 3, Maximum]\n",
    "# 'Business': [7.0, 80.0, 138.5, 252.0, 2090.0]\n",
    "\n",
    "from numpy import percentile\n",
    "output_dict = dict.fromkeys(dirs)\n",
    "idx = 0\n",
    "for i in len_dict.values():\n",
    "    arr = []\n",
    "    five_number_summary = percentile(i,[0,25,50,75,100])\n",
    "    arr.append(five_number_summary[0])\n",
    "    arr.append(five_number_summary[1])\n",
    "    arr.append(five_number_summary[2])\n",
    "    arr.append(five_number_summary[3])\n",
    "    arr.append(five_number_summary[4])\n",
    "    output_dict[dirs[idx]]=arr\n",
    "    idx+=1\n"
   ]
  },
  {
   "cell_type": "code",
   "execution_count": 3,
   "metadata": {},
   "outputs": [
    {
     "name": "stdout",
     "output_type": "stream",
     "text": [
      "1452\n",
      "1320\n",
      "1333\n",
      "1325\n",
      "1388\n",
      "1244\n",
      "1463\n",
      "1327\n",
      "1337\n",
      "1389\n",
      "1395\n",
      "1403\n"
     ]
    }
   ],
   "source": [
    "a = []\n",
    "for i in dirs:  \n",
    "    a.append([num for num in len_dict[i] if num>=output_dict[i][1] and num<=output_dict[i][3]])\n",
    "for i in a:\n",
    "    print(len(i))\n"
   ]
  },
  {
   "cell_type": "code",
   "execution_count": 4,
   "metadata": {},
   "outputs": [
    {
     "name": "stdout",
     "output_type": "stream",
     "text": [
      "1446\r"
     ]
    }
   ],
   "source": [
    "root = '.\\\\Preprocessed\\\\Business'\n",
    "index = 1\n",
    "for i in os.listdir(root):\n",
    "    with open(os.path.join(root,i),encoding='utf-8') as fp:\n",
    "        tsize = len(fp.read().split())\n",
    "        \n",
    "        if tsize<=80.0 or tsize>=252.0:\n",
    "            print( index,end='\\r')\n",
    "            index+=1\n",
    "        "
   ]
  },
  {
   "cell_type": "code",
   "execution_count": 6,
   "metadata": {},
   "outputs": [],
   "source": [
    "root = '.\\\\Filtered Preprocessed'\n",
    "dirs = [i for i in os.listdir(root)]\n",
    "dirs_path = [os.path.join(root,i) for i in dirs]\n",
    "idx1=0\n",
    "for folder in dirs_path:\n",
    "    for files in os.listdir(folder):\n",
    "        with open(os.path.join(folder,files),encoding='utf-8') as fp:\n",
    "            tsize = len(fp.read().split())\n",
    "        field = dirs[idx1]\n",
    "        \n",
    "        if tsize<= output_dict[field][1] or tsize>= output_dict[field][3]:\n",
    "            os.remove(os.path.join(folder,files))\n",
    "    idx1+=1   "
   ]
  },
  {
   "cell_type": "code",
   "execution_count": null,
   "metadata": {},
   "outputs": [],
   "source": []
  }
 ],
 "metadata": {
  "interpreter": {
   "hash": "33dc6d49505b4536b6a128d9d7c879e1fa44477ad44947bbbe73093067fe6393"
  },
  "kernelspec": {
   "display_name": "Python 3.9.6 64-bit",
   "language": "python",
   "name": "python3"
  },
  "language_info": {
   "codemirror_mode": {
    "name": "ipython",
    "version": 3
   },
   "file_extension": ".py",
   "mimetype": "text/x-python",
   "name": "python",
   "nbconvert_exporter": "python",
   "pygments_lexer": "ipython3",
   "version": "3.9.6"
  },
  "orig_nbformat": 4
 },
 "nbformat": 4,
 "nbformat_minor": 2
}
